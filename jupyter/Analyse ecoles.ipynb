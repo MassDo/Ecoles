{
 "cells": [
  {
   "cell_type": "code",
   "execution_count": 1,
   "metadata": {},
   "outputs": [],
   "source": [
    "from matplotlib import pyplot as plt\n",
    "import numpy as np\n",
    "import pandas as pd\n",
    "import re\n",
    "\n",
    "\n",
    "# Spécification du type de données pour la colonne 'SIREN_SIRET'\n",
    "df = pd.read_csv('data/ecoles.csv', sep=';', dtype={'SIREN_SIRET': str})\n",
    "pd.set_option('display.max_columns', 69)\n",
    "pd.set_option('display.max_rows', 500)"
   ]
  },
  {
   "cell_type": "code",
   "execution_count": 2,
   "metadata": {},
   "outputs": [],
   "source": [
    " # list(df.columns)"
   ]
  },
  {
   "cell_type": "markdown",
   "metadata": {},
   "source": [
    "###  Filtrage des champs  "
   ]
  },
  {
   "cell_type": "code",
   "execution_count": 3,
   "metadata": {},
   "outputs": [],
   "source": [
    "df.drop(columns=[\n",
    "         'Identifiant_de_l_etablissement',\n",
    "         'Type_etablissement',\n",
    "         'Adresse_2',\n",
    "         'Code postal',\n",
    "         'Code_commune',\n",
    "         'Nom_commune',\n",
    "         'Code_academie',\n",
    "         'Code_region',\n",
    "         'Ecole_maternelle',\n",
    "         'Voie_generale',\n",
    "         'Voie_technologique',\n",
    "         'Voie_professionnelle',\n",
    "         'Fax',\n",
    "         'Web',\n",
    "         'Restauration',\n",
    "         'Hebergement',\n",
    "         'ULIS',\n",
    "         'Apprentissage',\n",
    "         'Segpa',\n",
    "         'Section_arts',\n",
    "         'Section_cinema',\n",
    "         'Section_theatre',\n",
    "         'Section_sport',\n",
    "         'Section_internationale',\n",
    "         'Section_europeenne',\n",
    "         'Lycee_Agricole',\n",
    "         'Lycee_militaire',\n",
    "         'Lycee_des_metiers',\n",
    "         'Post_BAC',\n",
    "         'Appartenance_Education_Prioritaire',\n",
    "         'GRETA',\n",
    "         'SIREN_SIRET',\n",
    "         'Fiche_onisep',\n",
    "         'position',\n",
    "         'Type_contrat_prive',\n",
    "         'Libelle_departement',\n",
    "         'Libelle_academie',\n",
    "         'Libelle_region',\n",
    "         'coordonnee_X',\n",
    "         'coordonnee_Y',\n",
    "         'epsg',\n",
    "         'nom_circonscription',\n",
    "         'latitude',\n",
    "         'longitude',\n",
    "         'precision_localisation',\n",
    "         'date_ouverture',\n",
    "         'date_maj_ligne',\n",
    "         'etat',\n",
    "         'ministere_tutelle',\n",
    "         'etablissement_multi_lignes',\n",
    "         'rpi_concentre',\n",
    "         'rpi_disperse',\n",
    "         'code_nature',\n",
    "         'libelle_nature',\n",
    "         'Code_type_contrat_prive',\n",
    "         'PIAL',\n",
    "         'etablissement_mere',\n",
    "         'type_rattachement_etablissement_mere',\n",
    "         'code_bassin_formation',\n",
    "         'libelle_bassin_formation'], inplace=True)"
   ]
  },
  {
   "cell_type": "markdown",
   "metadata": {},
   "source": [
    "### Filtrage écoles élémentaires uniquement "
   ]
  },
  {
   "cell_type": "code",
   "execution_count": 4,
   "metadata": {},
   "outputs": [
    {
     "data": {
      "text/plain": [
       "1.0    36966\n",
       "0.0    13665\n",
       "Name: Ecole_elementaire, dtype: int64"
      ]
     },
     "execution_count": 4,
     "metadata": {},
     "output_type": "execute_result"
    }
   ],
   "source": [
    "df['Ecole_elementaire'].value_counts()"
   ]
  },
  {
   "cell_type": "code",
   "execution_count": 5,
   "metadata": {},
   "outputs": [],
   "source": [
    "filt = (df['Ecole_elementaire'] == 1.0)"
   ]
  },
  {
   "cell_type": "code",
   "execution_count": 6,
   "metadata": {},
   "outputs": [],
   "source": [
    "df = df.loc[filt]"
   ]
  },
  {
   "cell_type": "code",
   "execution_count": 7,
   "metadata": {},
   "outputs": [
    {
     "data": {
      "text/plain": [
       "1.0    36966\n",
       "Name: Ecole_elementaire, dtype: int64"
      ]
     },
     "execution_count": 7,
     "metadata": {},
     "output_type": "execute_result"
    }
   ],
   "source": [
    "df['Ecole_elementaire'].value_counts()"
   ]
  },
  {
   "cell_type": "markdown",
   "metadata": {},
   "source": [
    "### Filtrage des adresses mails non valides"
   ]
  },
  {
   "cell_type": "code",
   "execution_count": 8,
   "metadata": {},
   "outputs": [
    {
     "data": {
      "text/plain": [
       "(36966, 9)"
      ]
     },
     "execution_count": 8,
     "metadata": {},
     "output_type": "execute_result"
    }
   ],
   "source": [
    "df.shape"
   ]
  },
  {
   "cell_type": "markdown",
   "metadata": {},
   "source": [
    "On filtre la forme des mails grâce à une expression régulière et on élimine les ecoles sans adresse mail."
   ]
  },
  {
   "cell_type": "code",
   "execution_count": 9,
   "metadata": {},
   "outputs": [
    {
     "data": {
      "text/plain": [
       "(36653, 9)"
      ]
     },
     "execution_count": 9,
     "metadata": {},
     "output_type": "execute_result"
    }
   ],
   "source": [
    "mask = df['Mail'].str.contains(r'[^@]+@[^@]+\\.[^@]+') & (df['Mail'] != np.nan)\n",
    "df = df[mask]\n",
    "df.shape"
   ]
  },
  {
   "cell_type": "code",
   "execution_count": 10,
   "metadata": {},
   "outputs": [
    {
     "data": {
      "text/plain": [
       "True    36653\n",
       "Name: Mail, dtype: int64"
      ]
     },
     "execution_count": 10,
     "metadata": {},
     "output_type": "execute_result"
    }
   ],
   "source": [
    "df['Mail'].str.contains(r'[^@]+@[^@]+\\.[^@]+').value_counts()"
   ]
  },
  {
   "cell_type": "markdown",
   "metadata": {},
   "source": [
    "Il ne reste bien que des école élémentaires au nombre de 36653 (Publiques + privées), avec des emails valides."
   ]
  },
  {
   "cell_type": "markdown",
   "metadata": {},
   "source": [
    "###   Trie par départements "
   ]
  },
  {
   "cell_type": "code",
   "execution_count": 11,
   "metadata": {},
   "outputs": [],
   "source": [
    "# Trie par ordre croissant\n",
    "df = df.sort_values(by='Code_departement')"
   ]
  },
  {
   "cell_type": "markdown",
   "metadata": {},
   "source": [
    "### Concaténation des adresses et supréssion des colonnes inutiles.\n"
   ]
  },
  {
   "cell_type": "code",
   "execution_count": 12,
   "metadata": {},
   "outputs": [],
   "source": [
    "df['Adresse'] = df['Adresse_1'] + ' ' + df['Adresse_3']"
   ]
  },
  {
   "cell_type": "markdown",
   "metadata": {},
   "source": [
    "On enleve les colonnes inutiles"
   ]
  },
  {
   "cell_type": "code",
   "execution_count": 13,
   "metadata": {},
   "outputs": [],
   "source": [
    "df = df.drop(columns=['Statut_public_prive', 'Adresse_1', 'Adresse_3', 'Ecole_elementaire', 'Nombre_d_eleves'])"
   ]
  },
  {
   "cell_type": "code",
   "execution_count": 14,
   "metadata": {},
   "outputs": [
    {
     "data": {
      "text/plain": [
       "(36653, 5)"
      ]
     },
     "execution_count": 14,
     "metadata": {},
     "output_type": "execute_result"
    }
   ],
   "source": [
    "df.shape"
   ]
  },
  {
   "cell_type": "code",
   "execution_count": 15,
   "metadata": {},
   "outputs": [
    {
     "data": {
      "text/html": [
       "<div>\n",
       "<style scoped>\n",
       "    .dataframe tbody tr th:only-of-type {\n",
       "        vertical-align: middle;\n",
       "    }\n",
       "\n",
       "    .dataframe tbody tr th {\n",
       "        vertical-align: top;\n",
       "    }\n",
       "\n",
       "    .dataframe thead th {\n",
       "        text-align: right;\n",
       "    }\n",
       "</style>\n",
       "<table border=\"1\" class=\"dataframe\">\n",
       "  <thead>\n",
       "    <tr style=\"text-align: right;\">\n",
       "      <th></th>\n",
       "      <th>Nom_etablissement</th>\n",
       "      <th>Code_departement</th>\n",
       "      <th>Telephone</th>\n",
       "      <th>Mail</th>\n",
       "      <th>Adresse</th>\n",
       "    </tr>\n",
       "  </thead>\n",
       "  <tbody>\n",
       "    <tr>\n",
       "      <th>40454</th>\n",
       "      <td>ECOLE ELEMENTAIRE PUBLIQUE</td>\n",
       "      <td>01</td>\n",
       "      <td>0472250117</td>\n",
       "      <td>ce.0010501P@ac-lyon.fr</td>\n",
       "      <td>Grande rue 01360 BRESSOLLES</td>\n",
       "    </tr>\n",
       "  </tbody>\n",
       "</table>\n",
       "</div>"
      ],
      "text/plain": [
       "                Nom_etablissement Code_departement   Telephone  \\\n",
       "40454  ECOLE ELEMENTAIRE PUBLIQUE               01  0472250117   \n",
       "\n",
       "                         Mail                      Adresse  \n",
       "40454  ce.0010501P@ac-lyon.fr  Grande rue 01360 BRESSOLLES  "
      ]
     },
     "execution_count": 15,
     "metadata": {},
     "output_type": "execute_result"
    }
   ],
   "source": [
    "df.head(1)"
   ]
  },
  {
   "cell_type": "code",
   "execution_count": 16,
   "metadata": {},
   "outputs": [],
   "source": [
    "data = df.values.tolist()"
   ]
  },
  {
   "cell_type": "markdown",
   "metadata": {},
   "source": [
    "On créer une database avec les champs du formulaire utilisateur google contact depuis nos données sous forme de liste data (plus performant de creer une dataFrame depuis une liste que de creer une dataframe vide puis de l'implementer avec les données d'une autre dataframe)"
   ]
  },
  {
   "cell_type": "markdown",
   "metadata": {},
   "source": [
    "### Faire une df_contact grâce à un csv exporté depuis google_contact pour avoir tous les noms de champs."
   ]
  },
  {
   "cell_type": "code",
   "execution_count": 17,
   "metadata": {},
   "outputs": [
    {
     "data": {
      "text/html": [
       "<div>\n",
       "<style scoped>\n",
       "    .dataframe tbody tr th:only-of-type {\n",
       "        vertical-align: middle;\n",
       "    }\n",
       "\n",
       "    .dataframe tbody tr th {\n",
       "        vertical-align: top;\n",
       "    }\n",
       "\n",
       "    .dataframe thead th {\n",
       "        text-align: right;\n",
       "    }\n",
       "</style>\n",
       "<table border=\"1\" class=\"dataframe\">\n",
       "  <thead>\n",
       "    <tr style=\"text-align: right;\">\n",
       "      <th></th>\n",
       "      <th>Name</th>\n",
       "      <th>Given Name</th>\n",
       "      <th>Additional Name</th>\n",
       "      <th>Family Name</th>\n",
       "      <th>Yomi Name</th>\n",
       "      <th>Given Name Yomi</th>\n",
       "      <th>Additional Name Yomi</th>\n",
       "      <th>Family Name Yomi</th>\n",
       "      <th>Name Prefix</th>\n",
       "      <th>Name Suffix</th>\n",
       "      <th>Initials</th>\n",
       "      <th>Nickname</th>\n",
       "      <th>Short Name</th>\n",
       "      <th>Maiden Name</th>\n",
       "      <th>Birthday</th>\n",
       "      <th>Gender</th>\n",
       "      <th>Location</th>\n",
       "      <th>Billing Information</th>\n",
       "      <th>Directory Server</th>\n",
       "      <th>Mileage</th>\n",
       "      <th>Occupation</th>\n",
       "      <th>Hobby</th>\n",
       "      <th>Sensitivity</th>\n",
       "      <th>Priority</th>\n",
       "      <th>Subject</th>\n",
       "      <th>Notes</th>\n",
       "      <th>Language</th>\n",
       "      <th>Photo</th>\n",
       "      <th>Group Membership</th>\n",
       "      <th>E-mail 1 - Type</th>\n",
       "      <th>E-mail 1 - Value</th>\n",
       "      <th>Phone 1 - Type</th>\n",
       "      <th>Phone 1 - Value</th>\n",
       "      <th>Address 1 - Type</th>\n",
       "      <th>Address 1 - Formatted</th>\n",
       "      <th>Address 1 - Street</th>\n",
       "      <th>Address 1 - City</th>\n",
       "      <th>Address 1 - PO Box</th>\n",
       "      <th>Address 1 - Region</th>\n",
       "      <th>Address 1 - Postal Code</th>\n",
       "      <th>Address 1 - Country</th>\n",
       "      <th>Address 1 - Extended Address</th>\n",
       "    </tr>\n",
       "  </thead>\n",
       "  <tbody>\n",
       "  </tbody>\n",
       "</table>\n",
       "</div>"
      ],
      "text/plain": [
       "Empty DataFrame\n",
       "Columns: [Name, Given Name, Additional Name, Family Name, Yomi Name, Given Name Yomi, Additional Name Yomi, Family Name Yomi, Name Prefix, Name Suffix, Initials, Nickname, Short Name, Maiden Name, Birthday, Gender, Location, Billing Information, Directory Server, Mileage, Occupation, Hobby, Sensitivity, Priority, Subject, Notes, Language, Photo, Group Membership, E-mail 1 - Type, E-mail 1 - Value, Phone 1 - Type, Phone 1 - Value, Address 1 - Type, Address 1 - Formatted, Address 1 - Street, Address 1 - City, Address 1 - PO Box, Address 1 - Region, Address 1 - Postal Code, Address 1 - Country, Address 1 - Extended Address]\n",
       "Index: []"
      ]
     },
     "execution_count": 17,
     "metadata": {},
     "output_type": "execute_result"
    }
   ],
   "source": [
    "df_contact = pd.read_csv('data/contacts.csv')\n",
    "df_contact.head(0)"
   ]
  },
  {
   "cell_type": "markdown",
   "metadata": {},
   "source": [
    "| df      | df_contact |\n",
    "| ----------- | ----------- |\n",
    "| Nom_etablissement      | Name       |\n",
    "| Adresse  | Address 1 - Formatted        |\n",
    "| Code_departement   | Group Membership        |\n",
    "| Telephone   | Phone 1 - Value        |\n",
    "| Mail   | E-mail 1 - Value        |\n"
   ]
  },
  {
   "cell_type": "code",
   "execution_count": 18,
   "metadata": {},
   "outputs": [],
   "source": [
    "df.columns = ['Name', 'Group Membership', 'Phone 1 - Value', 'E-mail 1 - Value', 'Address 1 - Formatted']"
   ]
  },
  {
   "cell_type": "markdown",
   "metadata": {},
   "source": [
    "### Ajout des colonnes obligatoires du formulaire google_contact à df."
   ]
  },
  {
   "cell_type": "markdown",
   "metadata": {},
   "source": [
    "Récupération des colonnes sous forme de listes"
   ]
  },
  {
   "cell_type": "code",
   "execution_count": 19,
   "metadata": {},
   "outputs": [],
   "source": [
    "contact_col = list(df_contact.columns)\n",
    "df_col = list(df.columns)"
   ]
  },
  {
   "cell_type": "code",
   "execution_count": 20,
   "metadata": {},
   "outputs": [],
   "source": [
    "col_a_ajouter = [e for e in contact_col if e not in df_col]"
   ]
  },
  {
   "cell_type": "markdown",
   "metadata": {},
   "source": [
    "Ajout des colonnes google contact à notre df."
   ]
  },
  {
   "cell_type": "code",
   "execution_count": 21,
   "metadata": {},
   "outputs": [],
   "source": [
    "df[col_a_ajouter] = [np.nan for i in range(len(col_a_ajouter))]"
   ]
  },
  {
   "cell_type": "code",
   "execution_count": 22,
   "metadata": {
    "scrolled": true
   },
   "outputs": [
    {
     "data": {
      "text/html": [
       "<div>\n",
       "<style scoped>\n",
       "    .dataframe tbody tr th:only-of-type {\n",
       "        vertical-align: middle;\n",
       "    }\n",
       "\n",
       "    .dataframe tbody tr th {\n",
       "        vertical-align: top;\n",
       "    }\n",
       "\n",
       "    .dataframe thead th {\n",
       "        text-align: right;\n",
       "    }\n",
       "</style>\n",
       "<table border=\"1\" class=\"dataframe\">\n",
       "  <thead>\n",
       "    <tr style=\"text-align: right;\">\n",
       "      <th></th>\n",
       "      <th>Name</th>\n",
       "      <th>Group Membership</th>\n",
       "      <th>Phone 1 - Value</th>\n",
       "      <th>E-mail 1 - Value</th>\n",
       "      <th>Address 1 - Formatted</th>\n",
       "      <th>Given Name</th>\n",
       "      <th>Additional Name</th>\n",
       "      <th>Family Name</th>\n",
       "      <th>Yomi Name</th>\n",
       "      <th>Given Name Yomi</th>\n",
       "      <th>Additional Name Yomi</th>\n",
       "      <th>Family Name Yomi</th>\n",
       "      <th>Name Prefix</th>\n",
       "      <th>Name Suffix</th>\n",
       "      <th>Initials</th>\n",
       "      <th>Nickname</th>\n",
       "      <th>Short Name</th>\n",
       "      <th>Maiden Name</th>\n",
       "      <th>Birthday</th>\n",
       "      <th>Gender</th>\n",
       "      <th>Location</th>\n",
       "      <th>Billing Information</th>\n",
       "      <th>Directory Server</th>\n",
       "      <th>Mileage</th>\n",
       "      <th>Occupation</th>\n",
       "      <th>Hobby</th>\n",
       "      <th>Sensitivity</th>\n",
       "      <th>Priority</th>\n",
       "      <th>Subject</th>\n",
       "      <th>Notes</th>\n",
       "      <th>Language</th>\n",
       "      <th>Photo</th>\n",
       "      <th>E-mail 1 - Type</th>\n",
       "      <th>Phone 1 - Type</th>\n",
       "      <th>Address 1 - Type</th>\n",
       "      <th>Address 1 - Street</th>\n",
       "      <th>Address 1 - City</th>\n",
       "      <th>Address 1 - PO Box</th>\n",
       "      <th>Address 1 - Region</th>\n",
       "      <th>Address 1 - Postal Code</th>\n",
       "      <th>Address 1 - Country</th>\n",
       "      <th>Address 1 - Extended Address</th>\n",
       "    </tr>\n",
       "  </thead>\n",
       "  <tbody>\n",
       "    <tr>\n",
       "      <th>40454</th>\n",
       "      <td>ECOLE ELEMENTAIRE PUBLIQUE</td>\n",
       "      <td>01</td>\n",
       "      <td>0472250117</td>\n",
       "      <td>ce.0010501P@ac-lyon.fr</td>\n",
       "      <td>Grande rue 01360 BRESSOLLES</td>\n",
       "      <td>NaN</td>\n",
       "      <td>NaN</td>\n",
       "      <td>NaN</td>\n",
       "      <td>NaN</td>\n",
       "      <td>NaN</td>\n",
       "      <td>NaN</td>\n",
       "      <td>NaN</td>\n",
       "      <td>NaN</td>\n",
       "      <td>NaN</td>\n",
       "      <td>NaN</td>\n",
       "      <td>NaN</td>\n",
       "      <td>NaN</td>\n",
       "      <td>NaN</td>\n",
       "      <td>NaN</td>\n",
       "      <td>NaN</td>\n",
       "      <td>NaN</td>\n",
       "      <td>NaN</td>\n",
       "      <td>NaN</td>\n",
       "      <td>NaN</td>\n",
       "      <td>NaN</td>\n",
       "      <td>NaN</td>\n",
       "      <td>NaN</td>\n",
       "      <td>NaN</td>\n",
       "      <td>NaN</td>\n",
       "      <td>NaN</td>\n",
       "      <td>NaN</td>\n",
       "      <td>NaN</td>\n",
       "      <td>NaN</td>\n",
       "      <td>NaN</td>\n",
       "      <td>NaN</td>\n",
       "      <td>NaN</td>\n",
       "      <td>NaN</td>\n",
       "      <td>NaN</td>\n",
       "      <td>NaN</td>\n",
       "      <td>NaN</td>\n",
       "      <td>NaN</td>\n",
       "      <td>NaN</td>\n",
       "    </tr>\n",
       "  </tbody>\n",
       "</table>\n",
       "</div>"
      ],
      "text/plain": [
       "                             Name Group Membership Phone 1 - Value  \\\n",
       "40454  ECOLE ELEMENTAIRE PUBLIQUE               01      0472250117   \n",
       "\n",
       "             E-mail 1 - Value        Address 1 - Formatted  Given Name  \\\n",
       "40454  ce.0010501P@ac-lyon.fr  Grande rue 01360 BRESSOLLES         NaN   \n",
       "\n",
       "       Additional Name  Family Name  Yomi Name  Given Name Yomi  \\\n",
       "40454              NaN          NaN        NaN              NaN   \n",
       "\n",
       "       Additional Name Yomi  Family Name Yomi  Name Prefix  Name Suffix  \\\n",
       "40454                   NaN               NaN          NaN          NaN   \n",
       "\n",
       "       Initials  Nickname  Short Name  Maiden Name  Birthday  Gender  \\\n",
       "40454       NaN       NaN         NaN          NaN       NaN     NaN   \n",
       "\n",
       "       Location  Billing Information  Directory Server  Mileage  Occupation  \\\n",
       "40454       NaN                  NaN               NaN      NaN         NaN   \n",
       "\n",
       "       Hobby  Sensitivity  Priority  Subject  Notes  Language  Photo  \\\n",
       "40454    NaN          NaN       NaN      NaN    NaN       NaN    NaN   \n",
       "\n",
       "       E-mail 1 - Type  Phone 1 - Type  Address 1 - Type  Address 1 - Street  \\\n",
       "40454              NaN             NaN               NaN                 NaN   \n",
       "\n",
       "       Address 1 - City  Address 1 - PO Box  Address 1 - Region  \\\n",
       "40454               NaN                 NaN                 NaN   \n",
       "\n",
       "       Address 1 - Postal Code  Address 1 - Country  \\\n",
       "40454                      NaN                  NaN   \n",
       "\n",
       "       Address 1 - Extended Address  \n",
       "40454                           NaN  "
      ]
     },
     "execution_count": 22,
     "metadata": {},
     "output_type": "execute_result"
    }
   ],
   "source": [
    "df.head(1)"
   ]
  },
  {
   "cell_type": "markdown",
   "metadata": {},
   "source": [
    "### Exportations des écoles par départements en csv\n"
   ]
  },
  {
   "cell_type": "code",
   "execution_count": 23,
   "metadata": {},
   "outputs": [],
   "source": [
    "departements = set(df['Group Membership'])\n",
    "\n",
    "for d in departements:\n",
    "    filt = df['Group Membership'] == d\n",
    "    df[filt].to_csv(f'data/ecoles_par_departement/dep_{d}.csv')\n",
    "    "
   ]
  },
  {
   "cell_type": "markdown",
   "metadata": {},
   "source": [
    "### Conclusion\n",
    "\n",
    "Depuis le fichiers des établissements scolaires du ministère, nous avons un fichier csv par département compatible avec l'importation de contact 'google contact'.   \n",
    "\n",
    "Chaque contact possede le nom de l'établissement son numéro de téléphone son adresse mail et son adresse postale."
   ]
  },
  {
   "cell_type": "markdown",
   "metadata": {},
   "source": [
    "# Visualisation\n"
   ]
  },
  {
   "cell_type": "code",
   "execution_count": 24,
   "metadata": {},
   "outputs": [],
   "source": [
    "# Spécification du type de données pour la colonne 'SIREN_SIRET'\n",
    "df_viz = pd.read_csv('https://data.education.gouv.fr/explore/dataset/fr-en-adresse-et-geolocalisation-etablissements-premier-et-second-degre/download/?format=csv&timezone=Europe/Berlin&lang=fr&use_labels_for_header=true&csv_separator=%3B', sep=';', dtype={'SIREN_SIRET': str})\n",
    "pd.set_option('display.max_columns', 69)\n",
    "pd.set_option('display.max_rows', 500)"
   ]
  },
  {
   "cell_type": "code",
   "execution_count": 25,
   "metadata": {
    "scrolled": true
   },
   "outputs": [
    {
     "data": {
      "text/plain": [
       "Index(['Code établissement', 'Appellation officielle',\n",
       "       'Dénomination principale', 'Patronyme uai', 'Secteur Public/Privé',\n",
       "       'Adresse', 'Lieu dit', 'Boite postale', 'Code postal',\n",
       "       'Localite d'acheminement', 'Commune', 'Coordonnee X', 'Coordonnee Y',\n",
       "       'EPSG', 'Latitude', 'Longitude', 'Qualité d'appariement',\n",
       "       'Localisation', 'Code nature', 'Nature', 'Code état établissement',\n",
       "       'Etat établissement', 'Code département', 'Code région',\n",
       "       'Code académie', 'Code commune', 'Département', 'Région', 'Académie',\n",
       "       'Position', 'secteur_prive_code_type_contrat',\n",
       "       'secteur_prive_libelle_type_contrat', 'code_ministere',\n",
       "       'libelle_ministere', 'date_ouverture'],\n",
       "      dtype='object')"
      ]
     },
     "execution_count": 25,
     "metadata": {},
     "output_type": "execute_result"
    }
   ],
   "source": [
    "df_viz.columns"
   ]
  },
  {
   "cell_type": "code",
   "execution_count": 26,
   "metadata": {},
   "outputs": [
    {
     "data": {
      "text/html": [
       "<div>\n",
       "<style scoped>\n",
       "    .dataframe tbody tr th:only-of-type {\n",
       "        vertical-align: middle;\n",
       "    }\n",
       "\n",
       "    .dataframe tbody tr th {\n",
       "        vertical-align: top;\n",
       "    }\n",
       "\n",
       "    .dataframe thead th {\n",
       "        text-align: right;\n",
       "    }\n",
       "</style>\n",
       "<table border=\"1\" class=\"dataframe\">\n",
       "  <thead>\n",
       "    <tr style=\"text-align: right;\">\n",
       "      <th></th>\n",
       "      <th>Code établissement</th>\n",
       "      <th>Appellation officielle</th>\n",
       "      <th>Dénomination principale</th>\n",
       "      <th>Patronyme uai</th>\n",
       "      <th>Secteur Public/Privé</th>\n",
       "      <th>Adresse</th>\n",
       "      <th>Lieu dit</th>\n",
       "      <th>Boite postale</th>\n",
       "      <th>Code postal</th>\n",
       "      <th>Localite d'acheminement</th>\n",
       "      <th>Commune</th>\n",
       "      <th>Coordonnee X</th>\n",
       "      <th>Coordonnee Y</th>\n",
       "      <th>EPSG</th>\n",
       "      <th>Latitude</th>\n",
       "      <th>Longitude</th>\n",
       "      <th>Qualité d'appariement</th>\n",
       "      <th>Localisation</th>\n",
       "      <th>Code nature</th>\n",
       "      <th>Nature</th>\n",
       "      <th>Code état établissement</th>\n",
       "      <th>Etat établissement</th>\n",
       "      <th>Code département</th>\n",
       "      <th>Code région</th>\n",
       "      <th>Code académie</th>\n",
       "      <th>Code commune</th>\n",
       "      <th>Département</th>\n",
       "      <th>Région</th>\n",
       "      <th>Académie</th>\n",
       "      <th>Position</th>\n",
       "      <th>secteur_prive_code_type_contrat</th>\n",
       "      <th>secteur_prive_libelle_type_contrat</th>\n",
       "      <th>code_ministere</th>\n",
       "      <th>libelle_ministere</th>\n",
       "      <th>date_ouverture</th>\n",
       "    </tr>\n",
       "  </thead>\n",
       "  <tbody>\n",
       "    <tr>\n",
       "      <th>0</th>\n",
       "      <td>0040106U</td>\n",
       "      <td>Ecole maternelle</td>\n",
       "      <td>ECOLE MATERNELLE PUBLIQUE</td>\n",
       "      <td>NaN</td>\n",
       "      <td>Public</td>\n",
       "      <td>Place de la Mairie</td>\n",
       "      <td>Le Village</td>\n",
       "      <td>NaN</td>\n",
       "      <td>4200</td>\n",
       "      <td>CHATEAUNEUF VAL ST DONAT</td>\n",
       "      <td>Châteauneuf-Val-Saint-Donat</td>\n",
       "      <td>936096.0</td>\n",
       "      <td>6337116.0</td>\n",
       "      <td>EPSG:2154</td>\n",
       "      <td>44.093362</td>\n",
       "      <td>5.949128</td>\n",
       "      <td>MANUEL</td>\n",
       "      <td>BATIMENT</td>\n",
       "      <td>101</td>\n",
       "      <td>ECOLE MATERNELLE</td>\n",
       "      <td>1.0</td>\n",
       "      <td>OUVERT</td>\n",
       "      <td>04</td>\n",
       "      <td>93</td>\n",
       "      <td>2</td>\n",
       "      <td>04053</td>\n",
       "      <td>Alpes-de-Haute-Provence</td>\n",
       "      <td>Provence-Alpes-Côte d'Azur</td>\n",
       "      <td>Aix-Marseille</td>\n",
       "      <td>44.0933624599,5.9491279977</td>\n",
       "      <td>99.0</td>\n",
       "      <td>SANS OBJET</td>\n",
       "      <td>6</td>\n",
       "      <td>MINISTERE DE L'EDUCATION NATIONALE</td>\n",
       "      <td>1969-04-24</td>\n",
       "    </tr>\n",
       "  </tbody>\n",
       "</table>\n",
       "</div>"
      ],
      "text/plain": [
       "  Code établissement Appellation officielle    Dénomination principale  \\\n",
       "0           0040106U       Ecole maternelle  ECOLE MATERNELLE PUBLIQUE   \n",
       "\n",
       "  Patronyme uai Secteur Public/Privé             Adresse    Lieu dit  \\\n",
       "0           NaN               Public  Place de la Mairie  Le Village   \n",
       "\n",
       "  Boite postale  Code postal   Localite d'acheminement  \\\n",
       "0           NaN         4200  CHATEAUNEUF VAL ST DONAT   \n",
       "\n",
       "                       Commune  Coordonnee X  Coordonnee Y       EPSG  \\\n",
       "0  Châteauneuf-Val-Saint-Donat      936096.0     6337116.0  EPSG:2154   \n",
       "\n",
       "    Latitude  Longitude Qualité d'appariement Localisation  Code nature  \\\n",
       "0  44.093362   5.949128                MANUEL     BATIMENT          101   \n",
       "\n",
       "             Nature  Code état établissement Etat établissement  \\\n",
       "0  ECOLE MATERNELLE                      1.0             OUVERT   \n",
       "\n",
       "  Code département  Code région  Code académie Code commune  \\\n",
       "0               04           93              2        04053   \n",
       "\n",
       "               Département                      Région       Académie  \\\n",
       "0  Alpes-de-Haute-Provence  Provence-Alpes-Côte d'Azur  Aix-Marseille   \n",
       "\n",
       "                     Position  secteur_prive_code_type_contrat  \\\n",
       "0  44.0933624599,5.9491279977                             99.0   \n",
       "\n",
       "  secteur_prive_libelle_type_contrat  code_ministere  \\\n",
       "0                         SANS OBJET               6   \n",
       "\n",
       "                    libelle_ministere date_ouverture  \n",
       "0  MINISTERE DE L'EDUCATION NATIONALE     1969-04-24  "
      ]
     },
     "execution_count": 26,
     "metadata": {},
     "output_type": "execute_result"
    }
   ],
   "source": [
    "df_viz.head(1)"
   ]
  },
  {
   "cell_type": "markdown",
   "metadata": {},
   "source": [
    "Il faut filtrer le nombre d'élèves par écoles( si > 2000 ) "
   ]
  },
  {
   "cell_type": "code",
   "execution_count": 27,
   "metadata": {},
   "outputs": [
    {
     "name": "stdout",
     "output_type": "stream",
     "text": [
      "Using matplotlib backend: TkAgg\n"
     ]
    },
    {
     "ename": "KeyError",
     "evalue": "'Code_departement'",
     "output_type": "error",
     "traceback": [
      "\u001b[0;31m---------------------------------------------------------------------------\u001b[0m",
      "\u001b[0;31mKeyError\u001b[0m                                  Traceback (most recent call last)",
      "\u001b[0;32m~/.local/share/virtualenvs/ecoles-XJ0hx9Wf/lib/python3.8/site-packages/pandas/core/indexes/base.py\u001b[0m in \u001b[0;36mget_loc\u001b[0;34m(self, key, method, tolerance)\u001b[0m\n\u001b[1;32m   2894\u001b[0m             \u001b[0;32mtry\u001b[0m\u001b[0;34m:\u001b[0m\u001b[0;34m\u001b[0m\u001b[0;34m\u001b[0m\u001b[0m\n\u001b[0;32m-> 2895\u001b[0;31m                 \u001b[0;32mreturn\u001b[0m \u001b[0mself\u001b[0m\u001b[0;34m.\u001b[0m\u001b[0m_engine\u001b[0m\u001b[0;34m.\u001b[0m\u001b[0mget_loc\u001b[0m\u001b[0;34m(\u001b[0m\u001b[0mcasted_key\u001b[0m\u001b[0;34m)\u001b[0m\u001b[0;34m\u001b[0m\u001b[0;34m\u001b[0m\u001b[0m\n\u001b[0m\u001b[1;32m   2896\u001b[0m             \u001b[0;32mexcept\u001b[0m \u001b[0mKeyError\u001b[0m \u001b[0;32mas\u001b[0m \u001b[0merr\u001b[0m\u001b[0;34m:\u001b[0m\u001b[0;34m\u001b[0m\u001b[0;34m\u001b[0m\u001b[0m\n",
      "\u001b[0;32mpandas/_libs/index.pyx\u001b[0m in \u001b[0;36mpandas._libs.index.IndexEngine.get_loc\u001b[0;34m()\u001b[0m\n",
      "\u001b[0;32mpandas/_libs/index.pyx\u001b[0m in \u001b[0;36mpandas._libs.index.IndexEngine.get_loc\u001b[0;34m()\u001b[0m\n",
      "\u001b[0;32mpandas/_libs/hashtable_class_helper.pxi\u001b[0m in \u001b[0;36mpandas._libs.hashtable.PyObjectHashTable.get_item\u001b[0;34m()\u001b[0m\n",
      "\u001b[0;32mpandas/_libs/hashtable_class_helper.pxi\u001b[0m in \u001b[0;36mpandas._libs.hashtable.PyObjectHashTable.get_item\u001b[0;34m()\u001b[0m\n",
      "\u001b[0;31mKeyError\u001b[0m: 'Code_departement'",
      "\nThe above exception was the direct cause of the following exception:\n",
      "\u001b[0;31mKeyError\u001b[0m                                  Traceback (most recent call last)",
      "\u001b[0;32m<ipython-input-27-a2784b434c37>\u001b[0m in \u001b[0;36m<module>\u001b[0;34m\u001b[0m\n\u001b[1;32m      8\u001b[0m \u001b[0;34m\u001b[0m\u001b[0m\n\u001b[1;32m      9\u001b[0m \u001b[0;32mfor\u001b[0m \u001b[0md\u001b[0m \u001b[0;32min\u001b[0m \u001b[0mdepartements\u001b[0m\u001b[0;34m:\u001b[0m\u001b[0;34m\u001b[0m\u001b[0;34m\u001b[0m\u001b[0m\n\u001b[0;32m---> 10\u001b[0;31m     \u001b[0mfiltre_dep\u001b[0m \u001b[0;34m=\u001b[0m \u001b[0mdf_viz\u001b[0m\u001b[0;34m[\u001b[0m\u001b[0;34m'Code_departement'\u001b[0m\u001b[0;34m]\u001b[0m \u001b[0;34m==\u001b[0m \u001b[0md\u001b[0m\u001b[0;34m\u001b[0m\u001b[0;34m\u001b[0m\u001b[0m\n\u001b[0m\u001b[1;32m     11\u001b[0m     \u001b[0mfiltre_primaire\u001b[0m \u001b[0;34m=\u001b[0m \u001b[0mfiltre_dep\u001b[0m \u001b[0;34m&\u001b[0m \u001b[0mdf_viz\u001b[0m\u001b[0;34m[\u001b[0m\u001b[0;34m'Ecole_elementaire'\u001b[0m\u001b[0;34m]\u001b[0m \u001b[0;34m==\u001b[0m \u001b[0;36m1\u001b[0m\u001b[0;34m\u001b[0m\u001b[0;34m\u001b[0m\u001b[0m\n\u001b[1;32m     12\u001b[0m \u001b[0;34m\u001b[0m\u001b[0m\n",
      "\u001b[0;32m~/.local/share/virtualenvs/ecoles-XJ0hx9Wf/lib/python3.8/site-packages/pandas/core/frame.py\u001b[0m in \u001b[0;36m__getitem__\u001b[0;34m(self, key)\u001b[0m\n\u001b[1;32m   2904\u001b[0m             \u001b[0;32mif\u001b[0m \u001b[0mself\u001b[0m\u001b[0;34m.\u001b[0m\u001b[0mcolumns\u001b[0m\u001b[0;34m.\u001b[0m\u001b[0mnlevels\u001b[0m \u001b[0;34m>\u001b[0m \u001b[0;36m1\u001b[0m\u001b[0;34m:\u001b[0m\u001b[0;34m\u001b[0m\u001b[0;34m\u001b[0m\u001b[0m\n\u001b[1;32m   2905\u001b[0m                 \u001b[0;32mreturn\u001b[0m \u001b[0mself\u001b[0m\u001b[0;34m.\u001b[0m\u001b[0m_getitem_multilevel\u001b[0m\u001b[0;34m(\u001b[0m\u001b[0mkey\u001b[0m\u001b[0;34m)\u001b[0m\u001b[0;34m\u001b[0m\u001b[0;34m\u001b[0m\u001b[0m\n\u001b[0;32m-> 2906\u001b[0;31m             \u001b[0mindexer\u001b[0m \u001b[0;34m=\u001b[0m \u001b[0mself\u001b[0m\u001b[0;34m.\u001b[0m\u001b[0mcolumns\u001b[0m\u001b[0;34m.\u001b[0m\u001b[0mget_loc\u001b[0m\u001b[0;34m(\u001b[0m\u001b[0mkey\u001b[0m\u001b[0;34m)\u001b[0m\u001b[0;34m\u001b[0m\u001b[0;34m\u001b[0m\u001b[0m\n\u001b[0m\u001b[1;32m   2907\u001b[0m             \u001b[0;32mif\u001b[0m \u001b[0mis_integer\u001b[0m\u001b[0;34m(\u001b[0m\u001b[0mindexer\u001b[0m\u001b[0;34m)\u001b[0m\u001b[0;34m:\u001b[0m\u001b[0;34m\u001b[0m\u001b[0;34m\u001b[0m\u001b[0m\n\u001b[1;32m   2908\u001b[0m                 \u001b[0mindexer\u001b[0m \u001b[0;34m=\u001b[0m \u001b[0;34m[\u001b[0m\u001b[0mindexer\u001b[0m\u001b[0;34m]\u001b[0m\u001b[0;34m\u001b[0m\u001b[0;34m\u001b[0m\u001b[0m\n",
      "\u001b[0;32m~/.local/share/virtualenvs/ecoles-XJ0hx9Wf/lib/python3.8/site-packages/pandas/core/indexes/base.py\u001b[0m in \u001b[0;36mget_loc\u001b[0;34m(self, key, method, tolerance)\u001b[0m\n\u001b[1;32m   2895\u001b[0m                 \u001b[0;32mreturn\u001b[0m \u001b[0mself\u001b[0m\u001b[0;34m.\u001b[0m\u001b[0m_engine\u001b[0m\u001b[0;34m.\u001b[0m\u001b[0mget_loc\u001b[0m\u001b[0;34m(\u001b[0m\u001b[0mcasted_key\u001b[0m\u001b[0;34m)\u001b[0m\u001b[0;34m\u001b[0m\u001b[0;34m\u001b[0m\u001b[0m\n\u001b[1;32m   2896\u001b[0m             \u001b[0;32mexcept\u001b[0m \u001b[0mKeyError\u001b[0m \u001b[0;32mas\u001b[0m \u001b[0merr\u001b[0m\u001b[0;34m:\u001b[0m\u001b[0;34m\u001b[0m\u001b[0;34m\u001b[0m\u001b[0m\n\u001b[0;32m-> 2897\u001b[0;31m                 \u001b[0;32mraise\u001b[0m \u001b[0mKeyError\u001b[0m\u001b[0;34m(\u001b[0m\u001b[0mkey\u001b[0m\u001b[0;34m)\u001b[0m \u001b[0;32mfrom\u001b[0m \u001b[0merr\u001b[0m\u001b[0;34m\u001b[0m\u001b[0;34m\u001b[0m\u001b[0m\n\u001b[0m\u001b[1;32m   2898\u001b[0m \u001b[0;34m\u001b[0m\u001b[0m\n\u001b[1;32m   2899\u001b[0m         \u001b[0;32mif\u001b[0m \u001b[0mtolerance\u001b[0m \u001b[0;32mis\u001b[0m \u001b[0;32mnot\u001b[0m \u001b[0;32mNone\u001b[0m\u001b[0;34m:\u001b[0m\u001b[0;34m\u001b[0m\u001b[0;34m\u001b[0m\u001b[0m\n",
      "\u001b[0;31mKeyError\u001b[0m: 'Code_departement'"
     ]
    }
   ],
   "source": [
    "%matplotlib\n",
    "\n",
    "departements = sorted(departements)\n",
    "eleves_par_dep_total = []\n",
    "el_par_dep_primaire = []\n",
    "el_par_dep_maternelle = []\n",
    "\n",
    "\n",
    "for d in departements:\n",
    "    filtre_dep = df_viz['Code_departement'] == d\n",
    "    filtre_primaire = filtre_dep & df_viz['Ecole_elementaire'] == 1\n",
    "    \n",
    "    eleves_par_dep_total.append(df_viz.loc[filtre_dep, 'Nombre_d_eleves'].sum())\n",
    "    el_par_dep_primaire.append(df_viz.loc[filtre_primaire, 'Nombre_d_eleves'].sum())\n",
    "\n",
    "plt.bar(departements, eleves_par_dep_total, label='total')\n",
    "plt.bar(departements, el_par_dep_primaire, label='primaire')\n",
    "\n",
    "\n",
    "plt.xlabel('Départements')\n",
    "plt.ylabel('Éleves')\n",
    "plt.title('Élèves par départements')\n",
    "\n",
    "\n",
    "plt.gcf().subplots_adjust()\n",
    "\n",
    "plt.legend()\n",
    "plt.grid(False)\n",
    "plt.tight_layout()\n",
    "# plt.savefig('plot.png')\n",
    "plt.show()\n"
   ]
  },
  {
   "cell_type": "code",
   "execution_count": null,
   "metadata": {},
   "outputs": [],
   "source": []
  }
 ],
 "metadata": {
  "kernelspec": {
   "display_name": "ecoles",
   "language": "python",
   "name": "ecoles"
  },
  "language_info": {
   "codemirror_mode": {
    "name": "ipython",
    "version": 3
   },
   "file_extension": ".py",
   "mimetype": "text/x-python",
   "name": "python",
   "nbconvert_exporter": "python",
   "pygments_lexer": "ipython3",
   "version": "3.8.6"
  }
 },
 "nbformat": 4,
 "nbformat_minor": 2
}
